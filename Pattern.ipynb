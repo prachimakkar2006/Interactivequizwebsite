{
 "cells": [
  {
   "cell_type": "markdown",
   "id": "16d4360e",
   "metadata": {},
   "source": [
    "### Print # for 4x4 matrix"
   ]
  },
  {
   "cell_type": "code",
   "execution_count": 4,
   "id": "07b1bade",
   "metadata": {},
   "outputs": [
    {
     "name": "stdout",
     "output_type": "stream",
     "text": [
      "#\n"
     ]
    }
   ],
   "source": [
    "print(\"#\")"
   ]
  },
  {
   "cell_type": "code",
   "execution_count": 2,
   "id": "d9196f17",
   "metadata": {},
   "outputs": [
    {
     "name": "stdout",
     "output_type": "stream",
     "text": [
      "#\n",
      "#\n",
      "#\n",
      "#\n"
     ]
    }
   ],
   "source": [
    "print(\"#\")\n",
    "print(\"#\")\n",
    "print(\"#\")\n",
    "print(\"#\")"
   ]
  },
  {
   "cell_type": "code",
   "execution_count": 3,
   "id": "9a1cb6cb",
   "metadata": {},
   "outputs": [
    {
     "name": "stdout",
     "output_type": "stream",
     "text": [
      "# # # # "
     ]
    }
   ],
   "source": [
    "print(\"#\", end=\" \")\n",
    "print(\"#\", end=\" \")\n",
    "print(\"#\", end=\" \")\n",
    "print(\"#\", end=\" \")"
   ]
  },
  {
   "cell_type": "code",
   "execution_count": 5,
   "id": "7d879531",
   "metadata": {},
   "outputs": [
    {
     "name": "stdout",
     "output_type": "stream",
     "text": [
      "# # # # "
     ]
    }
   ],
   "source": [
    "for j in range(4):\n",
    "    print(\"#\", end=\" \")"
   ]
  },
  {
   "cell_type": "code",
   "execution_count": 6,
   "id": "4b0e0c6a",
   "metadata": {},
   "outputs": [
    {
     "name": "stdout",
     "output_type": "stream",
     "text": [
      "# # # # \n",
      "# # # # \n",
      "# # # # \n",
      "# # # # \n"
     ]
    }
   ],
   "source": [
    "# Print # for 4x4 matrix\n",
    "\n",
    "for j in range(4):\n",
    "    print(\"#\", end=\" \")\n",
    "    \n",
    "print()\n",
    "\n",
    "for j in range(4):\n",
    "    print(\"#\", end=\" \")\n",
    "    \n",
    "print()\n",
    "\n",
    "for j in range(4):\n",
    "    print(\"#\", end=\" \")\n",
    "    \n",
    "print()\n",
    "\n",
    "for j in range(4):\n",
    "    print(\"#\", end=\" \")\n",
    "    \n",
    "print()"
   ]
  },
  {
   "cell_type": "code",
   "execution_count": 7,
   "id": "1d8210f8",
   "metadata": {},
   "outputs": [
    {
     "name": "stdout",
     "output_type": "stream",
     "text": [
      "# # # # \n",
      "# # # # \n",
      "# # # # \n",
      "# # # # \n"
     ]
    }
   ],
   "source": [
    "# Print # for 4x4 matrix\n",
    "\n",
    "for i in range(4):   # i = row\n",
    "    for j in range(4):    # j = col\n",
    "        print(\"#\", end=\" \")\n",
    "\n",
    "    print()"
   ]
  },
  {
   "cell_type": "code",
   "execution_count": 8,
   "id": "a90d5a54",
   "metadata": {},
   "outputs": [
    {
     "name": "stdout",
     "output_type": "stream",
     "text": [
      "\n",
      "# \n",
      "# # \n",
      "# # # \n"
     ]
    }
   ],
   "source": [
    "# pattern for triangle\n",
    "\n",
    "for i in range(4):   # i = row\n",
    "    for j in range(i):    # j = col\n",
    "        print(\"#\", end=\" \")\n",
    "\n",
    "    print()"
   ]
  },
  {
   "cell_type": "code",
   "execution_count": 9,
   "id": "df2dd2ed",
   "metadata": {},
   "outputs": [
    {
     "name": "stdout",
     "output_type": "stream",
     "text": [
      "\n",
      "# \n",
      "# # \n",
      "# # # \n"
     ]
    }
   ],
   "source": [
    "# pattern for triangle\n",
    "\n",
    "for i in range(4, 0, -1):   # i = row\n",
    "    for j in range(4-i, 0, -1):    # j = col\n",
    "        print(\"#\", end=\" \")\n",
    "\n",
    "    print()"
   ]
  },
  {
   "cell_type": "code",
   "execution_count": 10,
   "id": "954ef27f",
   "metadata": {},
   "outputs": [
    {
     "name": "stdout",
     "output_type": "stream",
     "text": [
      "# \n",
      "# # \n",
      "# # # \n",
      "# # # # \n"
     ]
    }
   ],
   "source": [
    "# pattern for triangle\n",
    "\n",
    "for i in range(4):   # i = row\n",
    "    for j in range(i+1):    # j = col\n",
    "        print(\"#\", end=\" \")\n",
    "\n",
    "    print()"
   ]
  },
  {
   "cell_type": "code",
   "execution_count": 11,
   "id": "357ddce6",
   "metadata": {},
   "outputs": [
    {
     "name": "stdout",
     "output_type": "stream",
     "text": [
      "# # # # \n",
      "# # # \n",
      "# # \n",
      "# \n"
     ]
    }
   ],
   "source": [
    "# pattern for triangle\n",
    "\n",
    "for i in range(4):   # i = row\n",
    "    for j in range(4-i):    # j = col\n",
    "        print(\"#\", end=\" \")\n",
    "\n",
    "    print()"
   ]
  },
  {
   "cell_type": "code",
   "execution_count": 12,
   "id": "32e8548c",
   "metadata": {},
   "outputs": [
    {
     "name": "stdout",
     "output_type": "stream",
     "text": [
      "# # # # \n",
      "# # # \n",
      "# # \n",
      "# \n"
     ]
    }
   ],
   "source": [
    "r=4 # no. of rows\n",
    "\n",
    "for i in range(r):\n",
    "    for j in range(r-i):  \n",
    "        if j<=(r-i):\n",
    "            print(\"#\", end=\" \")\n",
    "        \n",
    "    print()         "
   ]
  },
  {
   "cell_type": "code",
   "execution_count": 13,
   "id": "9232f93a",
   "metadata": {},
   "outputs": [
    {
     "name": "stdout",
     "output_type": "stream",
     "text": [
      "      # \n",
      "    # # \n",
      "  # # # \n",
      "# # # # \n"
     ]
    }
   ],
   "source": [
    "r=4 # no. of rows\n",
    "\n",
    "for i in range(1, r+1):\n",
    "    for j in range(1, r+1):  \n",
    "        if j<=(r-i):\n",
    "            print(\" \", end=\" \")\n",
    "        else:\n",
    "            print(\"#\", end=\" \")\n",
    "        \n",
    "    print()         "
   ]
  },
  {
   "cell_type": "code",
   "execution_count": 14,
   "id": "a12eaf2a",
   "metadata": {},
   "outputs": [
    {
     "name": "stdout",
     "output_type": "stream",
     "text": [
      "1 1 1 1 1 \n",
      "2 2 2 2 \n",
      "3 3 3 \n",
      "4 4 \n",
      "5 \n"
     ]
    }
   ],
   "source": [
    "# Pattern with numbers\n",
    "\n",
    "r=5 # no. of rows\n",
    "\n",
    "for i in range(r):\n",
    "    for j in range(r-i):  \n",
    "        if j<=(r-i):\n",
    "            print((i+1), end=\" \")\n",
    "        \n",
    "    print()        "
   ]
  },
  {
   "cell_type": "code",
   "execution_count": 15,
   "id": "6ca96490",
   "metadata": {},
   "outputs": [
    {
     "name": "stdout",
     "output_type": "stream",
     "text": [
      "1 \n",
      "2 3 \n",
      "4 5 6 \n",
      "7 8 9 10 \n",
      "11 12 13 14 15 \n"
     ]
    }
   ],
   "source": [
    "# Making triangle using natural numbers\n",
    "\n",
    "r=5 # no. of rows\n",
    "num=1\n",
    "\n",
    "for i in range(r):   # i = row\n",
    "    for j in range(i+1):    # j = col\n",
    "            print(num, end=\" \")\n",
    "            num += 1\n",
    "\n",
    "    print()"
   ]
  },
  {
   "cell_type": "code",
   "execution_count": 16,
   "id": "1d387df1",
   "metadata": {},
   "outputs": [
    {
     "name": "stdout",
     "output_type": "stream",
     "text": [
      "5\n",
      "     * \n",
      "    * * \n",
      "   * * * \n",
      "  * * * * \n",
      " * * * * * \n"
     ]
    }
   ],
   "source": [
    "n = int(input())\n",
    "\n",
    "for i in range(n):\n",
    "    for j in range(n-i):\n",
    "        print(end=\" \")\n",
    "    for j in range(i+1):\n",
    "        print(\"*\", end=\" \")\n",
    "    print()"
   ]
  },
  {
   "cell_type": "code",
   "execution_count": 17,
   "id": "3fcb17fe",
   "metadata": {},
   "outputs": [
    {
     "name": "stdout",
     "output_type": "stream",
     "text": [
      "5\n",
      "     * \n",
      "    *** \n",
      "   ***** \n",
      "  ******* \n",
      " ********* \n"
     ]
    }
   ],
   "source": [
    "n = int(input())\n",
    "\n",
    "for i in range(n):\n",
    "    print(\" \"*(n-i-1), end=\" \")\n",
    "    print(\"*\"*(2*i+1), end=\" \")\n",
    "    print()"
   ]
  },
  {
   "cell_type": "code",
   "execution_count": 18,
   "id": "3af3ab6e",
   "metadata": {},
   "outputs": [
    {
     "name": "stdout",
     "output_type": "stream",
     "text": [
      "5\n",
      "*   \n",
      "**  \n",
      "*** \n",
      "****\n",
      "*****\n"
     ]
    }
   ],
   "source": [
    "n = int(input())\n",
    "x = '*'\n",
    "for i in range(n):\n",
    "    print((x*(i+1)).ljust(n-1))"
   ]
  },
  {
   "cell_type": "code",
   "execution_count": 19,
   "id": "8c63d6e5",
   "metadata": {},
   "outputs": [
    {
     "name": "stdout",
     "output_type": "stream",
     "text": [
      "6\n",
      "      * \n",
      "     *** \n",
      "    ***** \n",
      "   ******* \n",
      "  ********* \n",
      " *********** \n",
      "  ********* \n",
      "   ******* \n",
      "    ***** \n",
      "     *** \n",
      "      * \n"
     ]
    }
   ],
   "source": [
    "n = int(input())\n",
    "\n",
    "for i in range(n):\n",
    "    print(\" \"*(n-i-1), end=\" \")\n",
    "    print(\"*\"*(2*i+1), end=\" \")\n",
    "    print()\n",
    "\n",
    "for i in range(n, 1, -1):\n",
    "    print(\" \"*(n-i+1), end=\" \")\n",
    "    print(\"*\"*(2*i-3), end=\" \")\n",
    "    print()"
   ]
  },
  {
   "cell_type": "code",
   "execution_count": 20,
   "id": "d10f1638",
   "metadata": {},
   "outputs": [
    {
     "name": "stdout",
     "output_type": "stream",
     "text": [
      "6\n",
      "      * \n",
      "     * * \n",
      "    * * * \n",
      "   * * * * \n",
      "  * * * * * \n",
      " * * * * * * \n",
      "  * * * * * \n",
      "   * * * * \n",
      "    * * * \n",
      "     * * \n",
      "      * \n",
      "       \n"
     ]
    }
   ],
   "source": [
    "n = int(input())\n",
    "\n",
    "for i in range(n):\n",
    "    for j in range(n-i):\n",
    "        print(end=\" \")\n",
    "    for j in range(i+1):\n",
    "        print(\"*\", end=\" \")\n",
    "    print()\n",
    "\n",
    "for i in range(n, 0, -1):\n",
    "    for j in range(n-i+2):\n",
    "        print(end=\" \")\n",
    "    for j in range(i-1):\n",
    "        print(\"*\", end=\" \")\n",
    "    print()"
   ]
  },
  {
   "cell_type": "code",
   "execution_count": 21,
   "id": "4e38a8b2",
   "metadata": {},
   "outputs": [
    {
     "name": "stdout",
     "output_type": "stream",
     "text": [
      " *\n",
      "  **\n",
      "   ***\n",
      "    ****\n",
      "     *****\n",
      "     ****\n",
      "    ***\n",
      "   **\n",
      "  *\n",
      " \n"
     ]
    }
   ],
   "source": [
    "n = 5\n",
    "\n",
    "for i in range(1, n+1):\n",
    "    # To give space before \n",
    "    # printing stars in \n",
    "    # upper part of arrow\n",
    "    for j in range(i):\n",
    "        print(\" \",end=\"\")\n",
    "          \n",
    "   \n",
    "    # To print stars in upper\n",
    "    # part of the arrow\n",
    "    for j in range(i):\n",
    "        print(\"*\",end=\"\")\n",
    "          \n",
    "    print()\n",
    "    \n",
    "# lower part of the arrow\n",
    "for i in range(n):\n",
    "    # To give space before printing\n",
    "    # stars in lower part of arrow\n",
    "    for j in range (n-i):\n",
    "        print(\" \",end=\"\")\n",
    "          \n",
    "   \n",
    "    # To print stars in lower\n",
    "    # part of the arrow\n",
    "    for j in range (n-i-1):\n",
    "        print(\"*\",end=\"\")\n",
    "          \n",
    "    print()"
   ]
  },
  {
   "cell_type": "code",
   "execution_count": null,
   "id": "a9c231bc",
   "metadata": {},
   "outputs": [],
   "source": []
  }
 ],
 "metadata": {
  "kernelspec": {
   "display_name": "Python 3 (ipykernel)",
   "language": "python",
   "name": "python3"
  },
  "language_info": {
   "codemirror_mode": {
    "name": "ipython",
    "version": 3
   },
   "file_extension": ".py",
   "mimetype": "text/x-python",
   "name": "python",
   "nbconvert_exporter": "python",
   "pygments_lexer": "ipython3",
   "version": "3.9.12"
  }
 },
 "nbformat": 4,
 "nbformat_minor": 5
}

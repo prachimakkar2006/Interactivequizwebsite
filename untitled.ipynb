{
 "cells": [
  {
   "cell_type": "code",
   "execution_count": 32,
   "id": "6668fcc3-8235-4bbc-8e7a-6e026c1643f2",
   "metadata": {},
   "outputs": [
    {
     "name": "stdout",
     "output_type": "stream",
     "text": [
      "hello world\n"
     ]
    }
   ],
   "source": [
    "print(\"hello world\")"
   ]
  },
  {
   "cell_type": "code",
   "execution_count": 13,
   "id": "e6dfbc20-1c7d-4c77-bcc7-ced1ef900ea6",
   "metadata": {},
   "outputs": [
    {
     "name": "stdout",
     "output_type": "stream",
     "text": [
      "['False', 'None', 'True', 'and', 'as', 'assert', 'async', 'await', 'break', 'class', 'continue', 'def', 'del', 'elif', 'else', 'except', 'finally', 'for', 'from', 'global', 'if', 'import', 'in', 'is', 'lambda', 'nonlocal', 'not', 'or', 'pass', 'raise', 'return', 'try', 'while', 'with', 'yield']\n"
     ]
    }
   ],
   "source": [
    "import keyword\n",
    "print(keyword.kwlist)"
   ]
  },
  {
   "cell_type": "code",
   "execution_count": 10,
   "id": "dffe8bf5-8e33-4f2a-854c-7efc6d66394c",
   "metadata": {},
   "outputs": [
    {
     "name": "stdout",
     "output_type": "stream",
     "text": [
      "this is inside the nested if block \n"
     ]
    }
   ],
   "source": [
    "if 5>3:\n",
    "    print(\"this is inside the nested if block \")"
   ]
  },
  {
   "cell_type": "code",
   "execution_count": 36,
   "id": "14030616-27fc-49cc-b59b-facc08b12824",
   "metadata": {},
   "outputs": [
    {
     "name": "stdout",
     "output_type": "stream",
     "text": [
      "chitkara\n"
     ]
    }
   ],
   "source": [
    "name=\"chitkara\"\n",
    "print (name)"
   ]
  },
  {
   "cell_type": "code",
   "execution_count": 40,
   "id": "6c1284ab-024a-450b-bd70-5d4bf01d0c3d",
   "metadata": {},
   "outputs": [
    {
     "name": "stdout",
     "output_type": "stream",
     "text": [
      "I'm a student\n"
     ]
    }
   ],
   "source": [
    " x=\"I'm a student\"\n",
    "print(x)"
   ]
  },
  {
   "cell_type": "code",
   "execution_count": 48,
   "id": "c44b1f4a-7d6e-4fa0-88a7-b18bf1fffdf8",
   "metadata": {},
   "outputs": [
    {
     "name": "stdout",
     "output_type": "stream",
     "text": [
      "I am a student----------------------------------------------------------------------------------------------------------------------------------\n"
     ]
    }
   ],
   "source": [
    " x='I am a student----------------------------------------------------------------------------------------------------------------------------------'\n",
    "print(x)"
   ]
  },
  {
   "cell_type": "code",
   "execution_count": 72,
   "id": "aaeaa5a9-7ed4-4db6-a7d8-3debe02636c3",
   "metadata": {},
   "outputs": [
    {
     "name": "stdout",
     "output_type": "stream",
     "text": [
      "chitkara's student first year\n"
     ]
    }
   ],
   "source": [
    "name = \"chitkara's\\\n",
    " student\\\n",
    " first year\"\n",
    "print(name)"
   ]
  },
  {
   "cell_type": "code",
   "execution_count": 93,
   "id": "4ff193fb-e405-47fe-a792-f90aa90918af",
   "metadata": {},
   "outputs": [
    {
     "name": "stdout",
     "output_type": "stream",
     "text": [
      "20\n"
     ]
    }
   ],
   "source": [
    "a=\"10\"\n",
    "b=10\n",
    "c=int(a)\n",
    "print(b+c)\n"
   ]
  },
  {
   "cell_type": "code",
   "execution_count": 87,
   "id": "f8b5eec5-721a-41dc-b6fc-0732d72f872a",
   "metadata": {},
   "outputs": [
    {
     "name": "stdout",
     "output_type": "stream",
     "text": [
      "10.0\n"
     ]
    }
   ],
   "source": [
    "a=\"10\"\n",
    "c=float(a)\n",
    "print(c)"
   ]
  },
  {
   "cell_type": "code",
   "execution_count": 89,
   "id": "cf8f15fa-afe8-4ca2-b5fc-762b911b767b",
   "metadata": {},
   "outputs": [
    {
     "name": "stdout",
     "output_type": "stream",
     "text": [
      "10\n"
     ]
    }
   ],
   "source": [
    "a=10\n",
    "c=str(a)\n",
    "print(c)"
   ]
  },
  {
   "cell_type": "code",
   "execution_count": 97,
   "id": "f3164d21-9b32-4ce5-b505-dae3215cb38f",
   "metadata": {},
   "outputs": [
    {
     "name": "stdout",
     "output_type": "stream",
     "text": [
      "2\n",
      "0\n",
      "True\n",
      "False\n"
     ]
    }
   ],
   "source": [
    "a ,b=2 ,0\n",
    "print (a)\n",
    "print(b)\n",
    "c=bool(a)\n",
    "d=bool(b)\n",
    "print(c)\n",
    "print(d)"
   ]
  },
  {
   "cell_type": "code",
   "execution_count": null,
   "id": "8e4bc5d3-bd94-4e5c-9c41-9d2266fe2908",
   "metadata": {},
   "outputs": [],
   "source": []
  }
 ],
 "metadata": {
  "kernelspec": {
   "display_name": "Python 3 (ipykernel)",
   "language": "python",
   "name": "python3"
  },
  "language_info": {
   "codemirror_mode": {
    "name": "ipython",
    "version": 3
   },
   "file_extension": ".py",
   "mimetype": "text/x-python",
   "name": "python",
   "nbconvert_exporter": "python",
   "pygments_lexer": "ipython3",
   "version": "3.12.4"
  }
 },
 "nbformat": 4,
 "nbformat_minor": 5
}
